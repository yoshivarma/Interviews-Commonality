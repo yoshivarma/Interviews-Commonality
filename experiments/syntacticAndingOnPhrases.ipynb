{
  "nbformat": 4,
  "nbformat_minor": 0,
  "metadata": {
    "colab": {
      "provenance": [],
      "collapsed_sections": []
    },
    "kernelspec": {
      "name": "python3",
      "display_name": "Python 3"
    },
    "language_info": {
      "name": "python"
    }
  },
  "cells": [
    {
      "cell_type": "code",
      "execution_count": null,
      "metadata": {
        "colab": {
          "base_uri": "https://localhost:8080/"
        },
        "id": "SMxp5qh5-Dlq",
        "outputId": "2bcd9f83-bfbd-45c4-a990-fc6ff2ea4068"
      },
      "outputs": [
        {
          "output_type": "stream",
          "name": "stdout",
          "text": [
            "Mounted at /content/drive\n",
            "/content/drive/My Drive/compsci596e/dataset/reviews\n"
          ]
        }
      ],
      "source": [
        "from google.colab import drive\n",
        "drive.mount('/content/drive')\n",
        "\n",
        "# TODO: Enter the foldername in your Drive where you have saved the unzipped\n",
        "# assignment folder, e.g. 'cs231n/assignments/assignment1/'\n",
        "FOLDERNAME = 'compsci596e/dataset/reviews'\n",
        "assert FOLDERNAME is not None, \"[!] Enter the foldername.\"\n",
        "\n",
        "# Now that we've mounted your Drive, this ensures that\n",
        "# the Python interpreter of the Colab VM can load\n",
        "# python files from within it.\n",
        "import sys\n",
        "sys.path.append('/content/drive/My Drive/{}'.format(FOLDERNAME))\n",
        "\n",
        "%cd /content/drive/My\\ Drive/$FOLDERNAME"
      ]
    },
    {
      "cell_type": "code",
      "source": [
        "# Installing all dependencies\n",
        "\n",
        "!python -m spacy download en_core_web_lg\n",
        "!pip install spacy_universal_sentence_encoder"
      ],
      "metadata": {
        "colab": {
          "base_uri": "https://localhost:8080/"
        },
        "id": "ApNkNDT3-MuL",
        "outputId": "fae58372-e93c-4324-b472-b9b6d05d0e76"
      },
      "execution_count": null,
      "outputs": [
        {
          "output_type": "stream",
          "name": "stdout",
          "text": [
            "2022-10-17 22:17:14.160950: E tensorflow/stream_executor/cuda/cuda_driver.cc:271] failed call to cuInit: CUDA_ERROR_NO_DEVICE: no CUDA-capable device is detected\n",
            "Looking in indexes: https://pypi.org/simple, https://us-python.pkg.dev/colab-wheels/public/simple/\n",
            "Collecting en-core-web-lg==3.4.0\n",
            "  Downloading https://github.com/explosion/spacy-models/releases/download/en_core_web_lg-3.4.0/en_core_web_lg-3.4.0-py3-none-any.whl (587.7 MB)\n",
            "\u001b[K     |████████████████████████████████| 587.7 MB 9.5 kB/s \n",
            "\u001b[?25hRequirement already satisfied: spacy<3.5.0,>=3.4.0 in /usr/local/lib/python3.7/dist-packages (from en-core-web-lg==3.4.0) (3.4.1)\n",
            "Requirement already satisfied: typing-extensions<4.2.0,>=3.7.4 in /usr/local/lib/python3.7/dist-packages (from spacy<3.5.0,>=3.4.0->en-core-web-lg==3.4.0) (4.1.1)\n",
            "Requirement already satisfied: packaging>=20.0 in /usr/local/lib/python3.7/dist-packages (from spacy<3.5.0,>=3.4.0->en-core-web-lg==3.4.0) (21.3)\n",
            "Requirement already satisfied: preshed<3.1.0,>=3.0.2 in /usr/local/lib/python3.7/dist-packages (from spacy<3.5.0,>=3.4.0->en-core-web-lg==3.4.0) (3.0.7)\n",
            "Requirement already satisfied: murmurhash<1.1.0,>=0.28.0 in /usr/local/lib/python3.7/dist-packages (from spacy<3.5.0,>=3.4.0->en-core-web-lg==3.4.0) (1.0.8)\n",
            "Requirement already satisfied: pydantic!=1.8,!=1.8.1,<1.10.0,>=1.7.4 in /usr/local/lib/python3.7/dist-packages (from spacy<3.5.0,>=3.4.0->en-core-web-lg==3.4.0) (1.9.2)\n",
            "Requirement already satisfied: srsly<3.0.0,>=2.4.3 in /usr/local/lib/python3.7/dist-packages (from spacy<3.5.0,>=3.4.0->en-core-web-lg==3.4.0) (2.4.4)\n",
            "Requirement already satisfied: spacy-legacy<3.1.0,>=3.0.9 in /usr/local/lib/python3.7/dist-packages (from spacy<3.5.0,>=3.4.0->en-core-web-lg==3.4.0) (3.0.10)\n",
            "Requirement already satisfied: tqdm<5.0.0,>=4.38.0 in /usr/local/lib/python3.7/dist-packages (from spacy<3.5.0,>=3.4.0->en-core-web-lg==3.4.0) (4.64.1)\n",
            "Requirement already satisfied: langcodes<4.0.0,>=3.2.0 in /usr/local/lib/python3.7/dist-packages (from spacy<3.5.0,>=3.4.0->en-core-web-lg==3.4.0) (3.3.0)\n",
            "Requirement already satisfied: setuptools in /usr/local/lib/python3.7/dist-packages (from spacy<3.5.0,>=3.4.0->en-core-web-lg==3.4.0) (57.4.0)\n",
            "Requirement already satisfied: cymem<2.1.0,>=2.0.2 in /usr/local/lib/python3.7/dist-packages (from spacy<3.5.0,>=3.4.0->en-core-web-lg==3.4.0) (2.0.6)\n",
            "Requirement already satisfied: wasabi<1.1.0,>=0.9.1 in /usr/local/lib/python3.7/dist-packages (from spacy<3.5.0,>=3.4.0->en-core-web-lg==3.4.0) (0.10.1)\n",
            "Requirement already satisfied: pathy>=0.3.5 in /usr/local/lib/python3.7/dist-packages (from spacy<3.5.0,>=3.4.0->en-core-web-lg==3.4.0) (0.6.2)\n",
            "Requirement already satisfied: typer<0.5.0,>=0.3.0 in /usr/local/lib/python3.7/dist-packages (from spacy<3.5.0,>=3.4.0->en-core-web-lg==3.4.0) (0.4.2)\n",
            "Requirement already satisfied: jinja2 in /usr/local/lib/python3.7/dist-packages (from spacy<3.5.0,>=3.4.0->en-core-web-lg==3.4.0) (2.11.3)\n",
            "Requirement already satisfied: requests<3.0.0,>=2.13.0 in /usr/local/lib/python3.7/dist-packages (from spacy<3.5.0,>=3.4.0->en-core-web-lg==3.4.0) (2.23.0)\n",
            "Requirement already satisfied: catalogue<2.1.0,>=2.0.6 in /usr/local/lib/python3.7/dist-packages (from spacy<3.5.0,>=3.4.0->en-core-web-lg==3.4.0) (2.0.8)\n",
            "Requirement already satisfied: thinc<8.2.0,>=8.1.0 in /usr/local/lib/python3.7/dist-packages (from spacy<3.5.0,>=3.4.0->en-core-web-lg==3.4.0) (8.1.3)\n",
            "Requirement already satisfied: numpy>=1.15.0 in /usr/local/lib/python3.7/dist-packages (from spacy<3.5.0,>=3.4.0->en-core-web-lg==3.4.0) (1.21.6)\n",
            "Requirement already satisfied: spacy-loggers<2.0.0,>=1.0.0 in /usr/local/lib/python3.7/dist-packages (from spacy<3.5.0,>=3.4.0->en-core-web-lg==3.4.0) (1.0.3)\n",
            "Requirement already satisfied: zipp>=0.5 in /usr/local/lib/python3.7/dist-packages (from catalogue<2.1.0,>=2.0.6->spacy<3.5.0,>=3.4.0->en-core-web-lg==3.4.0) (3.9.0)\n",
            "Requirement already satisfied: pyparsing!=3.0.5,>=2.0.2 in /usr/local/lib/python3.7/dist-packages (from packaging>=20.0->spacy<3.5.0,>=3.4.0->en-core-web-lg==3.4.0) (3.0.9)\n",
            "Requirement already satisfied: smart-open<6.0.0,>=5.2.1 in /usr/local/lib/python3.7/dist-packages (from pathy>=0.3.5->spacy<3.5.0,>=3.4.0->en-core-web-lg==3.4.0) (5.2.1)\n",
            "Requirement already satisfied: idna<3,>=2.5 in /usr/local/lib/python3.7/dist-packages (from requests<3.0.0,>=2.13.0->spacy<3.5.0,>=3.4.0->en-core-web-lg==3.4.0) (2.10)\n",
            "Requirement already satisfied: certifi>=2017.4.17 in /usr/local/lib/python3.7/dist-packages (from requests<3.0.0,>=2.13.0->spacy<3.5.0,>=3.4.0->en-core-web-lg==3.4.0) (2022.9.24)\n",
            "Requirement already satisfied: urllib3!=1.25.0,!=1.25.1,<1.26,>=1.21.1 in /usr/local/lib/python3.7/dist-packages (from requests<3.0.0,>=2.13.0->spacy<3.5.0,>=3.4.0->en-core-web-lg==3.4.0) (1.24.3)\n",
            "Requirement already satisfied: chardet<4,>=3.0.2 in /usr/local/lib/python3.7/dist-packages (from requests<3.0.0,>=2.13.0->spacy<3.5.0,>=3.4.0->en-core-web-lg==3.4.0) (3.0.4)\n",
            "Requirement already satisfied: confection<1.0.0,>=0.0.1 in /usr/local/lib/python3.7/dist-packages (from thinc<8.2.0,>=8.1.0->spacy<3.5.0,>=3.4.0->en-core-web-lg==3.4.0) (0.0.3)\n",
            "Requirement already satisfied: blis<0.8.0,>=0.7.8 in /usr/local/lib/python3.7/dist-packages (from thinc<8.2.0,>=8.1.0->spacy<3.5.0,>=3.4.0->en-core-web-lg==3.4.0) (0.7.8)\n",
            "Requirement already satisfied: click<9.0.0,>=7.1.1 in /usr/local/lib/python3.7/dist-packages (from typer<0.5.0,>=0.3.0->spacy<3.5.0,>=3.4.0->en-core-web-lg==3.4.0) (7.1.2)\n",
            "Requirement already satisfied: MarkupSafe>=0.23 in /usr/local/lib/python3.7/dist-packages (from jinja2->spacy<3.5.0,>=3.4.0->en-core-web-lg==3.4.0) (2.0.1)\n",
            "Installing collected packages: en-core-web-lg\n",
            "Successfully installed en-core-web-lg-3.4.0\n",
            "\u001b[38;5;2m✔ Download and installation successful\u001b[0m\n",
            "You can now load the package via spacy.load('en_core_web_lg')\n",
            "Looking in indexes: https://pypi.org/simple, https://us-python.pkg.dev/colab-wheels/public/simple/\n",
            "Collecting spacy_universal_sentence_encoder\n",
            "  Downloading spacy_universal_sentence_encoder-0.4.5.tar.gz (13 kB)\n",
            "Requirement already satisfied: tensorflow<3.0.0,>=2.4.0 in /usr/local/lib/python3.7/dist-packages (from spacy_universal_sentence_encoder) (2.9.2)\n",
            "Requirement already satisfied: spacy<4.0.0,>=3.0.0 in /usr/local/lib/python3.7/dist-packages (from spacy_universal_sentence_encoder) (3.4.1)\n",
            "Requirement already satisfied: tensorflow-hub in /usr/local/lib/python3.7/dist-packages (from spacy_universal_sentence_encoder) (0.12.0)\n",
            "Requirement already satisfied: catalogue<2.1.0,>=2.0.6 in /usr/local/lib/python3.7/dist-packages (from spacy<4.0.0,>=3.0.0->spacy_universal_sentence_encoder) (2.0.8)\n",
            "Requirement already satisfied: packaging>=20.0 in /usr/local/lib/python3.7/dist-packages (from spacy<4.0.0,>=3.0.0->spacy_universal_sentence_encoder) (21.3)\n",
            "Requirement already satisfied: wasabi<1.1.0,>=0.9.1 in /usr/local/lib/python3.7/dist-packages (from spacy<4.0.0,>=3.0.0->spacy_universal_sentence_encoder) (0.10.1)\n",
            "Requirement already satisfied: cymem<2.1.0,>=2.0.2 in /usr/local/lib/python3.7/dist-packages (from spacy<4.0.0,>=3.0.0->spacy_universal_sentence_encoder) (2.0.6)\n",
            "Requirement already satisfied: spacy-loggers<2.0.0,>=1.0.0 in /usr/local/lib/python3.7/dist-packages (from spacy<4.0.0,>=3.0.0->spacy_universal_sentence_encoder) (1.0.3)\n",
            "Requirement already satisfied: langcodes<4.0.0,>=3.2.0 in /usr/local/lib/python3.7/dist-packages (from spacy<4.0.0,>=3.0.0->spacy_universal_sentence_encoder) (3.3.0)\n",
            "Requirement already satisfied: requests<3.0.0,>=2.13.0 in /usr/local/lib/python3.7/dist-packages (from spacy<4.0.0,>=3.0.0->spacy_universal_sentence_encoder) (2.23.0)\n",
            "Requirement already satisfied: srsly<3.0.0,>=2.4.3 in /usr/local/lib/python3.7/dist-packages (from spacy<4.0.0,>=3.0.0->spacy_universal_sentence_encoder) (2.4.4)\n",
            "Requirement already satisfied: typing-extensions<4.2.0,>=3.7.4 in /usr/local/lib/python3.7/dist-packages (from spacy<4.0.0,>=3.0.0->spacy_universal_sentence_encoder) (4.1.1)\n",
            "Requirement already satisfied: typer<0.5.0,>=0.3.0 in /usr/local/lib/python3.7/dist-packages (from spacy<4.0.0,>=3.0.0->spacy_universal_sentence_encoder) (0.4.2)\n",
            "Requirement already satisfied: jinja2 in /usr/local/lib/python3.7/dist-packages (from spacy<4.0.0,>=3.0.0->spacy_universal_sentence_encoder) (2.11.3)\n",
            "Requirement already satisfied: spacy-legacy<3.1.0,>=3.0.9 in /usr/local/lib/python3.7/dist-packages (from spacy<4.0.0,>=3.0.0->spacy_universal_sentence_encoder) (3.0.10)\n",
            "Requirement already satisfied: pydantic!=1.8,!=1.8.1,<1.10.0,>=1.7.4 in /usr/local/lib/python3.7/dist-packages (from spacy<4.0.0,>=3.0.0->spacy_universal_sentence_encoder) (1.9.2)\n",
            "Requirement already satisfied: preshed<3.1.0,>=3.0.2 in /usr/local/lib/python3.7/dist-packages (from spacy<4.0.0,>=3.0.0->spacy_universal_sentence_encoder) (3.0.7)\n",
            "Requirement already satisfied: thinc<8.2.0,>=8.1.0 in /usr/local/lib/python3.7/dist-packages (from spacy<4.0.0,>=3.0.0->spacy_universal_sentence_encoder) (8.1.3)\n",
            "Requirement already satisfied: tqdm<5.0.0,>=4.38.0 in /usr/local/lib/python3.7/dist-packages (from spacy<4.0.0,>=3.0.0->spacy_universal_sentence_encoder) (4.64.1)\n",
            "Requirement already satisfied: numpy>=1.15.0 in /usr/local/lib/python3.7/dist-packages (from spacy<4.0.0,>=3.0.0->spacy_universal_sentence_encoder) (1.21.6)\n",
            "Requirement already satisfied: murmurhash<1.1.0,>=0.28.0 in /usr/local/lib/python3.7/dist-packages (from spacy<4.0.0,>=3.0.0->spacy_universal_sentence_encoder) (1.0.8)\n",
            "Requirement already satisfied: pathy>=0.3.5 in /usr/local/lib/python3.7/dist-packages (from spacy<4.0.0,>=3.0.0->spacy_universal_sentence_encoder) (0.6.2)\n",
            "Requirement already satisfied: setuptools in /usr/local/lib/python3.7/dist-packages (from spacy<4.0.0,>=3.0.0->spacy_universal_sentence_encoder) (57.4.0)\n",
            "Requirement already satisfied: zipp>=0.5 in /usr/local/lib/python3.7/dist-packages (from catalogue<2.1.0,>=2.0.6->spacy<4.0.0,>=3.0.0->spacy_universal_sentence_encoder) (3.9.0)\n",
            "Requirement already satisfied: pyparsing!=3.0.5,>=2.0.2 in /usr/local/lib/python3.7/dist-packages (from packaging>=20.0->spacy<4.0.0,>=3.0.0->spacy_universal_sentence_encoder) (3.0.9)\n",
            "Requirement already satisfied: smart-open<6.0.0,>=5.2.1 in /usr/local/lib/python3.7/dist-packages (from pathy>=0.3.5->spacy<4.0.0,>=3.0.0->spacy_universal_sentence_encoder) (5.2.1)\n",
            "Requirement already satisfied: idna<3,>=2.5 in /usr/local/lib/python3.7/dist-packages (from requests<3.0.0,>=2.13.0->spacy<4.0.0,>=3.0.0->spacy_universal_sentence_encoder) (2.10)\n",
            "Requirement already satisfied: chardet<4,>=3.0.2 in /usr/local/lib/python3.7/dist-packages (from requests<3.0.0,>=2.13.0->spacy<4.0.0,>=3.0.0->spacy_universal_sentence_encoder) (3.0.4)\n",
            "Requirement already satisfied: certifi>=2017.4.17 in /usr/local/lib/python3.7/dist-packages (from requests<3.0.0,>=2.13.0->spacy<4.0.0,>=3.0.0->spacy_universal_sentence_encoder) (2022.9.24)\n",
            "Requirement already satisfied: urllib3!=1.25.0,!=1.25.1,<1.26,>=1.21.1 in /usr/local/lib/python3.7/dist-packages (from requests<3.0.0,>=2.13.0->spacy<4.0.0,>=3.0.0->spacy_universal_sentence_encoder) (1.24.3)\n",
            "Requirement already satisfied: keras<2.10.0,>=2.9.0rc0 in /usr/local/lib/python3.7/dist-packages (from tensorflow<3.0.0,>=2.4.0->spacy_universal_sentence_encoder) (2.9.0)\n",
            "Requirement already satisfied: six>=1.12.0 in /usr/local/lib/python3.7/dist-packages (from tensorflow<3.0.0,>=2.4.0->spacy_universal_sentence_encoder) (1.15.0)\n",
            "Requirement already satisfied: protobuf<3.20,>=3.9.2 in /usr/local/lib/python3.7/dist-packages (from tensorflow<3.0.0,>=2.4.0->spacy_universal_sentence_encoder) (3.17.3)\n",
            "Requirement already satisfied: tensorflow-estimator<2.10.0,>=2.9.0rc0 in /usr/local/lib/python3.7/dist-packages (from tensorflow<3.0.0,>=2.4.0->spacy_universal_sentence_encoder) (2.9.0)\n",
            "Requirement already satisfied: wrapt>=1.11.0 in /usr/local/lib/python3.7/dist-packages (from tensorflow<3.0.0,>=2.4.0->spacy_universal_sentence_encoder) (1.14.1)\n",
            "Requirement already satisfied: absl-py>=1.0.0 in /usr/local/lib/python3.7/dist-packages (from tensorflow<3.0.0,>=2.4.0->spacy_universal_sentence_encoder) (1.2.0)\n",
            "Requirement already satisfied: opt-einsum>=2.3.2 in /usr/local/lib/python3.7/dist-packages (from tensorflow<3.0.0,>=2.4.0->spacy_universal_sentence_encoder) (3.3.0)\n",
            "Requirement already satisfied: tensorflow-io-gcs-filesystem>=0.23.1 in /usr/local/lib/python3.7/dist-packages (from tensorflow<3.0.0,>=2.4.0->spacy_universal_sentence_encoder) (0.27.0)\n",
            "Requirement already satisfied: h5py>=2.9.0 in /usr/local/lib/python3.7/dist-packages (from tensorflow<3.0.0,>=2.4.0->spacy_universal_sentence_encoder) (3.1.0)\n",
            "Requirement already satisfied: astunparse>=1.6.0 in /usr/local/lib/python3.7/dist-packages (from tensorflow<3.0.0,>=2.4.0->spacy_universal_sentence_encoder) (1.6.3)\n",
            "Requirement already satisfied: gast<=0.4.0,>=0.2.1 in /usr/local/lib/python3.7/dist-packages (from tensorflow<3.0.0,>=2.4.0->spacy_universal_sentence_encoder) (0.4.0)\n",
            "Requirement already satisfied: libclang>=13.0.0 in /usr/local/lib/python3.7/dist-packages (from tensorflow<3.0.0,>=2.4.0->spacy_universal_sentence_encoder) (14.0.6)\n",
            "Requirement already satisfied: google-pasta>=0.1.1 in /usr/local/lib/python3.7/dist-packages (from tensorflow<3.0.0,>=2.4.0->spacy_universal_sentence_encoder) (0.2.0)\n",
            "Requirement already satisfied: flatbuffers<2,>=1.12 in /usr/local/lib/python3.7/dist-packages (from tensorflow<3.0.0,>=2.4.0->spacy_universal_sentence_encoder) (1.12)\n",
            "Requirement already satisfied: grpcio<2.0,>=1.24.3 in /usr/local/lib/python3.7/dist-packages (from tensorflow<3.0.0,>=2.4.0->spacy_universal_sentence_encoder) (1.49.1)\n",
            "Requirement already satisfied: termcolor>=1.1.0 in /usr/local/lib/python3.7/dist-packages (from tensorflow<3.0.0,>=2.4.0->spacy_universal_sentence_encoder) (2.0.1)\n",
            "Requirement already satisfied: keras-preprocessing>=1.1.1 in /usr/local/lib/python3.7/dist-packages (from tensorflow<3.0.0,>=2.4.0->spacy_universal_sentence_encoder) (1.1.2)\n",
            "Requirement already satisfied: tensorboard<2.10,>=2.9 in /usr/local/lib/python3.7/dist-packages (from tensorflow<3.0.0,>=2.4.0->spacy_universal_sentence_encoder) (2.9.1)\n",
            "Requirement already satisfied: wheel<1.0,>=0.23.0 in /usr/local/lib/python3.7/dist-packages (from astunparse>=1.6.0->tensorflow<3.0.0,>=2.4.0->spacy_universal_sentence_encoder) (0.37.1)\n",
            "Requirement already satisfied: cached-property in /usr/local/lib/python3.7/dist-packages (from h5py>=2.9.0->tensorflow<3.0.0,>=2.4.0->spacy_universal_sentence_encoder) (1.5.2)\n",
            "Requirement already satisfied: tensorboard-data-server<0.7.0,>=0.6.0 in /usr/local/lib/python3.7/dist-packages (from tensorboard<2.10,>=2.9->tensorflow<3.0.0,>=2.4.0->spacy_universal_sentence_encoder) (0.6.1)\n",
            "Requirement already satisfied: tensorboard-plugin-wit>=1.6.0 in /usr/local/lib/python3.7/dist-packages (from tensorboard<2.10,>=2.9->tensorflow<3.0.0,>=2.4.0->spacy_universal_sentence_encoder) (1.8.1)\n",
            "Requirement already satisfied: werkzeug>=1.0.1 in /usr/local/lib/python3.7/dist-packages (from tensorboard<2.10,>=2.9->tensorflow<3.0.0,>=2.4.0->spacy_universal_sentence_encoder) (1.0.1)\n",
            "Requirement already satisfied: google-auth<3,>=1.6.3 in /usr/local/lib/python3.7/dist-packages (from tensorboard<2.10,>=2.9->tensorflow<3.0.0,>=2.4.0->spacy_universal_sentence_encoder) (1.35.0)\n",
            "Requirement already satisfied: markdown>=2.6.8 in /usr/local/lib/python3.7/dist-packages (from tensorboard<2.10,>=2.9->tensorflow<3.0.0,>=2.4.0->spacy_universal_sentence_encoder) (3.4.1)\n",
            "Requirement already satisfied: google-auth-oauthlib<0.5,>=0.4.1 in /usr/local/lib/python3.7/dist-packages (from tensorboard<2.10,>=2.9->tensorflow<3.0.0,>=2.4.0->spacy_universal_sentence_encoder) (0.4.6)\n",
            "Requirement already satisfied: rsa<5,>=3.1.4 in /usr/local/lib/python3.7/dist-packages (from google-auth<3,>=1.6.3->tensorboard<2.10,>=2.9->tensorflow<3.0.0,>=2.4.0->spacy_universal_sentence_encoder) (4.9)\n",
            "Requirement already satisfied: cachetools<5.0,>=2.0.0 in /usr/local/lib/python3.7/dist-packages (from google-auth<3,>=1.6.3->tensorboard<2.10,>=2.9->tensorflow<3.0.0,>=2.4.0->spacy_universal_sentence_encoder) (4.2.4)\n",
            "Requirement already satisfied: pyasn1-modules>=0.2.1 in /usr/local/lib/python3.7/dist-packages (from google-auth<3,>=1.6.3->tensorboard<2.10,>=2.9->tensorflow<3.0.0,>=2.4.0->spacy_universal_sentence_encoder) (0.2.8)\n",
            "Requirement already satisfied: requests-oauthlib>=0.7.0 in /usr/local/lib/python3.7/dist-packages (from google-auth-oauthlib<0.5,>=0.4.1->tensorboard<2.10,>=2.9->tensorflow<3.0.0,>=2.4.0->spacy_universal_sentence_encoder) (1.3.1)\n",
            "Requirement already satisfied: importlib-metadata>=4.4 in /usr/local/lib/python3.7/dist-packages (from markdown>=2.6.8->tensorboard<2.10,>=2.9->tensorflow<3.0.0,>=2.4.0->spacy_universal_sentence_encoder) (5.0.0)\n",
            "Requirement already satisfied: pyasn1<0.5.0,>=0.4.6 in /usr/local/lib/python3.7/dist-packages (from pyasn1-modules>=0.2.1->google-auth<3,>=1.6.3->tensorboard<2.10,>=2.9->tensorflow<3.0.0,>=2.4.0->spacy_universal_sentence_encoder) (0.4.8)\n",
            "Requirement already satisfied: oauthlib>=3.0.0 in /usr/local/lib/python3.7/dist-packages (from requests-oauthlib>=0.7.0->google-auth-oauthlib<0.5,>=0.4.1->tensorboard<2.10,>=2.9->tensorflow<3.0.0,>=2.4.0->spacy_universal_sentence_encoder) (3.2.1)\n",
            "Requirement already satisfied: confection<1.0.0,>=0.0.1 in /usr/local/lib/python3.7/dist-packages (from thinc<8.2.0,>=8.1.0->spacy<4.0.0,>=3.0.0->spacy_universal_sentence_encoder) (0.0.3)\n",
            "Requirement already satisfied: blis<0.8.0,>=0.7.8 in /usr/local/lib/python3.7/dist-packages (from thinc<8.2.0,>=8.1.0->spacy<4.0.0,>=3.0.0->spacy_universal_sentence_encoder) (0.7.8)\n",
            "Requirement already satisfied: click<9.0.0,>=7.1.1 in /usr/local/lib/python3.7/dist-packages (from typer<0.5.0,>=0.3.0->spacy<4.0.0,>=3.0.0->spacy_universal_sentence_encoder) (7.1.2)\n",
            "Requirement already satisfied: MarkupSafe>=0.23 in /usr/local/lib/python3.7/dist-packages (from jinja2->spacy<4.0.0,>=3.0.0->spacy_universal_sentence_encoder) (2.0.1)\n",
            "Building wheels for collected packages: spacy-universal-sentence-encoder\n",
            "  Building wheel for spacy-universal-sentence-encoder (setup.py) ... \u001b[?25l\u001b[?25hdone\n",
            "  Created wheel for spacy-universal-sentence-encoder: filename=spacy_universal_sentence_encoder-0.4.5-py3-none-any.whl size=15810 sha256=ebe16f0d66a857c575024c7b29adefbaecff88633a22eea8f662d99efc557c9c\n",
            "  Stored in directory: /root/.cache/pip/wheels/2c/1a/1d/ace0dfd6761dabc0ad566c3886a0869b0748df0440a7d05b27\n",
            "Successfully built spacy-universal-sentence-encoder\n",
            "Installing collected packages: spacy-universal-sentence-encoder\n",
            "Successfully installed spacy-universal-sentence-encoder-0.4.5\n"
          ]
        }
      ]
    },
    {
      "cell_type": "code",
      "source": [
        "import spacy\n",
        "import spacy_universal_sentence_encoder\n",
        "nlp = spacy.load('en_core_web_lg')\n",
        "nlp_use = spacy_universal_sentence_encoder.load_model('en_use_lg')"
      ],
      "metadata": {
        "colab": {
          "base_uri": "https://localhost:8080/"
        },
        "id": "ebZIAwO3-ets",
        "outputId": "7093b86a-3a9a-4d7d-bb84-1d3976a36453"
      },
      "execution_count": null,
      "outputs": [
        {
          "output_type": "stream",
          "name": "stdout",
          "text": [
            "Downloaded https://tfhub.dev/google/universal-sentence-encoder-large/5, Total size: 577.10MB\n",
            "\n"
          ]
        }
      ]
    },
    {
      "cell_type": "code",
      "source": [
        "#@title Obtaining noun phrases from each review\n",
        "#Details:\n",
        "#1. From each review, we find non-repeated nouns only.\n",
        "#2. Hence, for each review, we create a dictionary of noun:phrase mapping and store the longest (hence most informative) phrase containing that mapping\n",
        "import pandas as pd\n",
        "import spacy\n",
        "\n",
        "nlp = spacy.load('en_core_web_lg')\n",
        "\n",
        "all_reviews = pd.read_csv(\"works_reviews.csv\")\n",
        "\n",
        "all_reviews_noun_adj_pairs = []\n",
        "\n",
        "for review_ind in all_reviews.index:\n",
        "  review = all_reviews['review_text'][review_ind]\n",
        "  \n",
        "  #Excluding null reviews\n",
        "  if(type(review) == type('')):\n",
        "    review = nlp(review)\n",
        "    noun_to_phrase_dic ={}\n",
        "\n",
        "    for chunk in review.noun_chunks:\n",
        "      phrase_words = []\n",
        "      noun = ''\n",
        "\n",
        "      # Add only root words of noun / adjective terms of the noun-adj pairs\n",
        "      for tok in chunk:\n",
        "          if tok.pos_ == \"NOUN\":\n",
        "            noun = tok.text\n",
        "            phrase_words.append((str(tok.lemma_)).lower())\n",
        "          if tok.pos_ == \"ADJ\":\n",
        "            phrase_words.append((str(tok.lemma_)).lower())\n",
        "\n",
        "      # Append generated phrase to noun adj pair only if the noun in not null\n",
        "      if noun:\n",
        "        if(len(phrase_words) > 0):\n",
        "          phrase = ' '.join(phrase_words)\n",
        "          \n",
        "          # If the noun already exits in the map, add it only if the phrase is longer (so no info is lost)\n",
        "          # We add each noun phrase once so that we do not add the same noun twice.\n",
        "          #This will help in clustering as two same nouns of the same review will not get clustered if we decide to go that route\n",
        "          if ((noun not in noun_to_phrase_dic) or len(noun_to_phrase_dic[noun]) < len(phrase)):\n",
        "            noun_to_phrase_dic[noun] = phrase\n",
        "        \n",
        "    all_reviews_noun_adj_pairs.append(noun_to_phrase_dic)\n",
        "  \n",
        "print(all_reviews_noun_adj_pairs)"
      ],
      "metadata": {
        "colab": {
          "base_uri": "https://localhost:8080/"
        },
        "id": "RseInFQJ-x2v",
        "outputId": "6b54ff07-9f22-4c3a-ac83-aa4aa92a31e7"
      },
      "execution_count": null,
      "outputs": [
        {
          "output_type": "stream",
          "name": "stdout",
          "text": [
            "[{'Fans': 'fan', 'stars': 'star', 'cafe': 'cafe', 'time': 'first time', 'chai': 'chai', 'friends': 'beautiful friend', 'burritos': 'beautiful sandwich burrito', 'order': 'pal order', 'mistake': 'easy mistake', 'pass': 'pass', 'area': 'area'}, {'lunch': 'early lunch', 'child': 'picky child', 'atmosphere': 'atmosphere', 'people': 'people', 'food': 'food', 'props': 'prop', 'gentleman': 'nice gentleman'}, {'place': 'place', 'food': 'food', 'smoothies': 'smoothie', 'smoothie': 'smoothie', 'lots': 'lot', 'fruit': 'fruit', 'cafe': 'nice cafe', 'fun': 'great fun', 'options': 'vegetarian vegan option'}, {'order': 'big group order', 'staff': 'staff', 'experience': 'helpful accommodating pleasant experience', 'Food': 'food'}, {'place': 'place', 'students': 'student', 'people': 'people', 'rest': 'rest', 'coffee': 'coffee', 'tea': 'tea', 'food': 'organic food', 'bread': 'organic farm bread', 'bagel': 'bagel', 'cheese': 'cream cheese', 'salmon': 'salmon', ':)': ':)'}, {'place': 'sandwich place', 'quality': 'quality', 'ingredients': 'ingredient', 'stuff': 'stuff', 'tables': 'nice wood table', 'things': 'thing', 'cheese': 'yummy fresh ingredient tomato pesto cheese', 'soup': 'nice bread grape soup'}, {'things': 'many great thing', 'service': 'great service', 'dining': 'outdoor dining', 'times': 'multiple time', 'breakfast': 'breakfast', 'lunch': 'lunch'}, {'place': 'chilled relaxed place', 'latte': 'latte', 'staff': 'friendly staff', 'conversation': 'conversation'}, {'reason': 'reason', 'stars': 'star', 'food': 'food', 'spot': 'spot', 'problem': 'only problem', 'service': 'customer service', 'person': 'friendly person', 'staff': 'staff', 'hurry': 'hurry', 'job': 'job', 'order': 'order', 'bag': 'bag', 'member': 'same staff member', 'services': 'customer service', 'course': 'course', 'customer': 'customer', 'moment': 'moment', 'expression': 'expression', 'time': 'time'}, {'place': 'comfortable place', 'friend': 'friend', 'coffee': 'coffee', 'goods': 'baked good', 'muffins': 'muffin', 'scones': 'scone'}, {'salad': 'chicken salad', 'Staff': 'staff', 'ambience': 'ambience'}, {'trip': 'first trip', 'front': 'store front', 'menu': 'menu', 'selection': 'nice selection', 'cashier': 'cashier', 'expediter': 'order expediter', 'scone': 'sandwich orange cranberry scone', 'coffee': 'cold brew coffee', 'portions': 'portion', 'thing': 'thing', 'bread': 'sandwich bread', 'bakery': 'bakery', 'treat': 'great treat', 'size': 'good size', 'visit': 'next visit', 'seating': 'outdoor seating'}, {'chain': 'regional chain', 'coffee': 'coffee', 'breakfast': 'breakfast', 'lunch': 'lunch', 'sandwiches': 'sandwich', 'goods': 'baked good', 'salads': 'salad', 'smoothies': 'smoothie'}, {'food': 'delcious type food', 'breakfast': 'breakfast', 'lovers': 'y food lover'}, {'diet': 'diet', 'home': 'home', 'meals': 'meal', 'turkey': 'turkey', 'bread': 'sourdough bread', 'slices': 'tomato slice', 'atmosphere': 'pleasant atmosphere', 'staff': 'friendly staff', 'list': 'list'}, {'place': 'cute place', 'sandwiches': 'few different sandwich', 'bagels': 'bagel', 'coffee': 'coffee', 'tables': 'large table', 'work': 'class work', 'prices': 'good price'}, {'sandwiches': 'sandwich', 'food': 'great food'}, {'staff': 'friendly helpful staff', 'decor': 'generic corporate chain decor', 'ambience': 'ambience'}, {'Food': 'food', 'students': 'student', 'options': 'cheap option', 'standards': 'standard', 'food': 'food', 'service': 'service', 'Owner': 'owner', 'stuff': 'good stuff', 'menu': 'menu'}, {'cafe': 'cafe', 'time': 'much time', 'vibe': 'vibe', 'staff': 'nice staff', 'mocha': 'mocha', 'mochas': 'bad mochas', 'recipe': 'recipe', 'garbage': 'garbage', 'egg': 'bagel egg', 'cheese': 'cheese', 'Edit': 'edit', 'star': 'star', 'internet': 'high speed internet', 'evaluation': 'evaluation', 'bagel': 'bagel'}, {'Works': 'work', 'choice': 'great choice', 'kids': 'kid', 'family': 'family', 'bagels': 'work bagel', 'cheese': 'cream cheese', 'capers': 'caper', 'onion': 'onion', 'party': 'party', 'sensitivities': 'sensitivity', 'modifications': 'modification', 'order': 'order', 'food': 'food', 'manner': 'timely manner', 'details': 'detail', 'perfection': 'perfection'}, {'restaurant': 'restaurant', 'plenty': 'plenty', 'time': 'time', 'order': 'order', 'places': 'other place', 'deliveries': 'delivery', 'dasher': 'dasher', 'stars': 'star', 'food': 'food', 'minute': 'last minute'}, {'cappuccino': 'cappuccino', 'hair': 'long hair', 'people': 'people', 'time': 'third time'}, {'place': 'place', 'atmosphere': 'atmosphere', 'police': 'police', 'menu': 'menu', 'Service': 'service', 'complaint': 'big complaint', 'town': 'college town', 'coffee': 'coffee', 'selection': 'gluten free selection'}, {'place': 'place', 'Works': 'work', 'options': 'many gluten free option', 'vegans': 'vegan', 'sandwiches': 'sandwich', 'ingredients': 'fresh ingredient', 'selection': 'great selection', 'pastries': 'pastry', 'breads': 'bread', 'latte': 'mocha latte', 'cards': 'few punch card', 'customers': 'loyal customer'}, {'coffee': 'decent coffee', 'sandwiches': 'sandwich', 'prices': 'price', 'crowd': 'hipster crowd', 'staff': 'staff', 'parking': 'dedicated parking', 'street': 'street', 'reality': 'reality', 'businesses': 'most business', 'food': 'good food', 'area': 'area'}, {'Food': 'food', 'Problem': 'problem', 'bagel': 'bagel', 'onions': 'red onion', 'egg': 'bacon egg', 'cheese': 'cheese', 'option': 'option', 'items': 'item', 'order': 'order', 'hell': 'sweet hell'}, {'place': 'place', 'vibe': 'great vibe', 'atmosphere': 'cool atmosphere', 'food': 'fresh clean authentic tasty food', 'gem': 'gem'}, {'atmosphere': 'lively atmosphere', 'music': 'good music', 'decor': 'pretty decor', 'latte': 'mocha latte', 'milk': 'milk', 'donuts': 'donut', 'sandwich': 'farmer vegetable sandwich', 'tastes': 'taste', 'buds': 'bud', 'lightning': 'sweet lightning', 'window': 'window', 'street': 'street', 'crowd': 'crowd', 'SANDWICHES': 'good sandwiches', 'place': 'nice place', 'homework': 'homework'}, {'service': 'fast friendly service', 'options': 'delicious food clean pleasant environment vegetarian option', 'friendliness': 'kid friendliness', 'Fun': 'fun', 'environment': 'artistic environment', 'Parking': 'parking', 'accessibility': 'ample convenient parking wheelchair accessibility', 'restrictions': 'accessible dietary restriction'}, {'cafe': 'large cozy cafe', 'food': 'great food', 'breakfast': 'day breakfast', 'Workers': 'worker', 'masks': 'mask', 'style': 'nice style'}, {'service': 'fast customer service', 'course': 'course', 'location': 'location', 'situation': 'situation', 'WiFi': 'free wifi', 'worker': 'worker', 'disrespect': 'such disrespect', 'place': 'place', 'customer': 'loyal customer', 'week': 'week', 'reaction': 'allergic reaction', 'items': 'food item', 'apology': 'apology', 'item': 'refund free item', 'foot': 'foot'}, {'smoothies': 'avacado banana smoothie', 'side': 'pricy side', 'seating': 'seating', 'theme': 'strange ranch theme', 'WiFi': 'wifi', 'staff': 'staff', 'point': 'price point', 'concern': 'only concern', 'dish': 'other dish', 'wrap': 'hummus wrap', 'cafe': 'cafe'}, {'lunch': 'lunch', 'sandwiches': 'sandwich', 'bread': 'fresh bread', 'bagels': 'bagel', 'Prices': 'price', 'restaurant': 'restaurant', 'atmosphere': 'nice atmosphere', 'pastries': 'good pastry', 'cookies': 'cookie'}, {'bakery': 'simple fast bakery', 'sandwiches': 'great breakfast food lunch sandwich', 'service': 'good service', 'wifi': 'fast wifi', 'seating': 'good seating', 'outlets': 'power outlet', 'commoners': 'commoner', 'products': 'apple product', 'smoothies': 'smoothie', 'Bagels': 'bagel', 'people': 'nice people', 'coffee': 'coffee', 'places': 'nearby place', 'offers': 'town offer', 'food': 'food', 'peace': 'peace'}, {'place': 'nice place', 'bagels': 'little bagel', 'staff': 'overall friendly staff', 'bowls': 'grain bowl'}, {'town': 'town', 'state': 'state', 'coffee': 'coffee', 'breakfast': 'breakfast', 'lunch': 'lunch', 'snack': 'snack', 'soup': 'soup', 'cafe': 'cafe', 'food': 'food', 'staff': 'staff', 'restaurant': 'other restaurant', 'life': 'life', 'nap': 'nap'}, {'Perfect': 'perfect', 'occasion': 'occasion', 'Breakfast': 'breakfast', 'lunch': 'lunch', 'dinner': 'dinner'}, {'food': 'food', 'bit': 'bit', 'trouble': 'trouble', 'sandwich': 'sandwich', 'day': 'busy day', 'manager': 'manager', 'situation': 'situation', 'service': 'great customer service', 'visit': 'next visit'}, {'bakery': 'good bakery', 'food': 'food', 'prices': 'price', 'mass': 'mass', 'cafe': 'cafe', 'place': 'only place', 'coffee': 'coffee', 'sandwiches': 'sandwich', 'work': 'work', 'places': 'other place', 'downtown': 'downtown', 'opinion': 'opinion'}, {'sandwich': 'delicious breakfast sandwich', 'staff': 'staff', 'order': 'order', 'place': 'comfortable place'}, {'place': 'good place', 'downtown': 'downtown', 'measures': 'covid social distancing measure', 'food': 'food', 'coffee': 'coffee', 'members': 'staff member'}, {'shop': 'great sandwich smoothie shop', 'sandwiches': 'good sandwich', 'course': 'course', 'place': 'place'}, {'smoothies': 'great smoothie', 'service': 'good service', 'place': 'great little place', 'friend': 'friend', 'work': 'work', 'venue': 'large venue', 'WiFi': 'free wifi', 'staff': 'staff', 'things': 'thing', 'menu': 'menu'}, {'morning': 'morning', 'bagels': 'dozen bagel', 'cheese': 'cream cheese', 'house': 'house', 'times': 'numerous time', 'bagel': 'simple poppy seed bagel', 'business': 'local business', 'pandemic': 'pandemic', 'employees': 'employee', 'butter': 'butter', 'jam': 'jam', 'time': 'time', 'amount': 'amount', 'bill': 'bill', 'tips': 'tip', 'shame': 'such shame'}, {'salad': 'chicken salad', 'sister': 'sister'}, {'friend': 'friend', 'coffee': 'coffee', 'mistake': 'major mistake', 'bread': 'wrong bread', 'toppings': 'wrong topping'}, {'selections': 'wonderful selection', 'sandwiches': 'sandwich', 'soups': 'soup', 'salad': 'salad', 'sandwich': 'sandwich'}, {'girlfriend': 'girlfriend', 'work': 'work', 'lunch': 'lunch', 'place': 'perfect place', 'menu': 'menu', 'lot': 'lot', 'options': 'nice option', 'staff': 'staff', 'complaints': 'complaint'}, {'manager': 'manager', 'employee': 'employee', 'tag': 'name tag', 'friends': 'friend', 'slice': 'slice', 'pizza': 'pizza', 'coffee': 'coffee', 'store': 'store', 'trash': 'trash', 'customers': 'customer', 'respect': 'respect'}, {'bagels': 'sausage egg cheese bagel', 'line': 'line', 'minutes': 'minute', 'order': 'order', 'system': 'system', 'refund': 'refund'}, {'latte': 'latte', 'shot': 'double shot', 'content': 'coffee content', 'milk': 'steamed milk', 'issue': 'issue', 'machine': 'coffee machine', 'visit': 'only visit', 'shop': 'shop'}, {'prices': 'great price'}, {'atmosphere': 'atmosphere', 'food': 'food', 'goods': 'local good', 'flavor': 'flavor', 'salad': 'salad', 'dressing': 'dressing'}, {'place': 'great place', 'bagels': 'morning bagel', 'coffee': 'coffee', 'lip': 'lip', 'floor': 'floor', 'registers': 'register', 'lol': 'lol'}, {'music': 'music', 'pop': 'pop', 'soundtrack': 'soundtrack', 'schizophrenia': 'schizophrenia'}, {'choices': 'excellent choice', 'sandwiches': 'sandwich', 'soups': 'soup', 'salads': 'salad', 'bowls': 'healthy grain bowl', 'sesame': 'sesame'}, {'place': 'place', 'manger': 'kind manger', 'staff': 'helpful staff', 'food': 'food', 'options': 'many option', 'dairy': 'dairy', 'gluten': 'gluten'}, {'bit': 'bit', 'time': 'time', 'homework': 'homework', 'environment': 'fast food restaurant environment', 'Smoothies': 'smoothie'}, {'place': 'great place', 'breakfast': 'breakfast', 'lunch': 'lunch', 'meal': 'meal', 'unit': 'unit', 'years': 'few year', 'space': 'space', 'seating': 'outdoor seating', 'paninis': 'panini', 'soups': 'soup'}, {'snowstorm': 'snowstorm', 'service': 'service', 'register': 'register', 'Bagels': 'bagel'}, {'food': 'fresh food', 'drinks': 'tasty drink', 'staff': 'friendly staff', 'place': 'place', 'choice': 'excellent choice', 'breakfast': 'breakfast', 'brunch': 'brunch', 'lunch': 'lunch'}, {'ingredients': 'salad ingredient', 'respite': 'quiet respite', 'Pickle': 'pickle', 'smoothie': 'great good peanut butter smoothie', 'options': 'more vegan option'}, {'mins': 'min', 'sandwich': 'breakfast sandwich', 'lady': 'young lady', 'customers': 'customer', 'eggs': 'egg'}, {'place': 'great place', 'experience': 'experience', 'girl': 'girl', 'desk': 'desk', 'wrap': 'wrap', 'thing': 'wrong thing', 'attitude': 'attitude', 'service': 'customer service', 'customer': 'customer'}, {'place': 'place', 'bacon': 'good bacon', 'cheese': 'scallion cream cheese', 'brain': 'brain'}, {'sandwich': 'bbq chicken 🐔 sandwich', 'time': 'time', 'food': 'healthy food', 'lot': 'lot', 'menu': 'big menu'}, {'salad': 'delicious salad', 'coffee': 'good iced coffee', 'location': 'convenient location', 'place': 'great place', 'area': 'hometown area'}, {'Feels': 'feel', 'shop': 'independent coffee shop', 'chain': 'chain', 'Food': 'food', 'board': 'chalk board', 'kids': 'kid', 'options': 'well option', 'town': 'town', 'cafe': 'cafe'}, {'food': 'great food', 'staff': 'helpful staff', 'allergies': 'allergy', 'prices': 'price'}, {'panini': 'barbeque chicken panini'}, {'items': 'good baked item', 'sandwiches': 'sandwich', 'table': 'table'}, {'place': 'place', 'Food': 'food', 'Staff': 'staff', 'restrictions': 'dietary restriction'}, {'Emphasis': 'emphasis', 'food': 'local food', 'smoothies': 'great smoothie', 'options': 'less bagel option', 'lots': 'lot', 'sandwiches': 'sandwich', 'lines': 'long line', 'seating': 'seating'}, {'food': 'food', 'menu': 'menu'}, {'place': 'place', 'food': 'food'}, {'bagels': 'tasty bagel', 'coffee': 'coffee', 'staff': 'friendly staff', 'service': 'fast service', 'prices': 'good price'}, {'food': 'great food', 'prices': 'great price', 'staff': 'staff', 'town': 'town'}, {'bagel': 'cheap good bagel', 'life': 'life', 'experience': 'experience', 'seating': 'nice outdoor seating'}, {'bagels': 'good bagel', 'town': 'town', 'coffee': 'great coffee', 'staff': 'staff', 'card': 'coffee punch card', 'area': 'area'}, {'locations': 'location', 'food': 'food'}, {'bagles': 'fantastic bagle', 'cheddar': 'jalapeno cheddar', 'cheese': 'cream cheese', 'bruggers': 'brugger'}, {'food': 'good food', 'min': 'min', 'cheese': 'bagel cream cheese', 'appointment': 'appointment'}, {'version': 'local version', 'contamination': 'cross contamination', 'Employees': 'employee', 'training': 'well training', 'allergens': 'allergen'}, {'salad': 'salad', 'mozzarella': 'delicious mozzarella', 'environment': 'nice friendly environment'}, {'panini': 'artichoke panini', 'coffee': 'excellent coffee'}, {'bowl': 'salmon bowl'}, {'options': 'many different option', 'bagels': 'bagel', 'bagel': 'poppy seed bagel', 'cheese': 'cream cheese'}, {'menu': 'great breakfast lunch menu', 'offerings': 'creative offering'}, {'options': 'option', 'area': 'area', 'choice': 'first choice', 'coffee': 'coffee'}, {'staff': 'staff'}, {'place': 'great place', 'breakfast': 'breakfast', 'lunch': 'lunch', 'tables': 'comfortable table', 'kids': 'kid', 'chalkboard': 'chalkboard', 'table': 'tiny table'}, {'place': 'pleasant place', 'coffee': 'coffee', 'snack': 'quick snack', 'unwind': 'unwind'}, {'selection': 'awesome selection', 'bagels': 'bagel', 'sandwiches': 'sandwich', 'smoothies': 'smoothie', 'drinks': 'coffee drink'}, {'food': 'good breakfast food'}, {'food': 'good food', 'selection': 'good selection', 'service': 'great service'}, {'food': 'food', 'staff': 'staff', 'customers': 'customer'}, {'soup': 'soup', 'day': 'day', 'chowder': 'new clam chowder', 'goid': 'goid'}, {'tuna': 'tuna', 'bagels': 'bagel', 'mile': 'mile', 'bruggers': 'brugger'}, {'foods': 'natural food', 'staff': 'nice staff', 'need': 'need', 'lot': 'lot', 'maintenance': 'building maintenance', 'flooring': 'dangerous flooring'}, {'food': 'organic food', 'shakes': 'good shake', 'wifi': 'wifi', 'smoothie': 'strawberry avocado smoothie'}, {'sandwiches': 'good sandwich', 'Fun': 'fun', 'friend': 'friend', 'pastries': 'day old pastry'}, {'treatment': 'silent treatment', 'brat': 'brat', 'counter': 'counter', 'tray': 'drink tray'}, {'person': 'person', 'people': 'people'}, {'employees': 'employee', 'spot': 'great spot'}, {'eats': 'kind eat', 'end': 'end'}, {'sandwich': 'vege sandwich', 'chocolate': 'small hot chocolate', 'seating': 'outdoor seating'}, {'food': 'good food', 'ingredients': 'good ingredient', 'sandwich': 'menu cheese sandwich', 'soup': 'soup'}, {'muffins': 'delicious muffin', 'ones': 'day old one', 'servicea': 'great servicea'}, {}, {}, {'sandwiches': 'delicious sandwich', 'ingredients': 'quality ingredient'}, {'Food': 'food', 'blah': 'blah', 'Location': 'location'}, {'coffee': 'great coffee', 'wrap': 'good breakfast wrap', 'bite': 'first bite'}, {'coffee': 'good coffee', 'seating': 'outdoor seating', 'Takeout': 'takeout'}, {'Food': 'food', 'Staff': 'staff'}, {'personnel': 'friendly personnel', 'atmosphere': 'homely atmosphere'}, {'atmosphere': 'atmosphere', 'sandwiches': 'terrific sandwich'}, {'atmosphere': 'casual atmosphere', 'seating': 'comfy seating', 'group': 'age group'}, {'people': 'great people', 'coffee': 'good coffee', 'spot': 'cool spot'}, {'tuna': 'tuna'}, {'cafe': 'good cafe', 'name': 'name'}, {'salad': 'salad'}, {'people': 'nice people', 'food': 'mediocre food'}, {'food': 'low quality food', 'service': 'low quality customer service', 'prices': 'price'}, {'food': 'delicious food', 'son': 'son'}, {'staff': 'staff', 'food': 'food'}, {'experience': 'great experience', 'food': 'great food'}, {'food': 'good food', 'girls': 'cut girl', 'front': 'front'}, {'atmosphere': 'excellent selection friendly service nice atmosphere'}, {'furniture': 'furniture', 'countertops': 'countertop'}, {'choice': 'good default choice', 'food': 'food'}, {'service': 'excellent service', 'food': 'delicious fresh food'}, {'food': 'awesome food', 'espresso': 'espresso'}, {'service': 'food customer service', 'flex': 'true flex', 'Thanks': 'thank'}, {'menu': 'great menu', 'coffee': 'good coffee'}, {'manager': 'manager'}, {'food': 'tasty food'}, {'coffee': 'coffee', 'food': 'food', 'employees': 'employee'}, {'stars': 'star', '3years': '3year'}, {'food': 'good sourcing food'}, {'pm': 'pm', 'hours': 'hour'}, {'options': 'samdwhiche healthy option'}, {'cafe': 'typical neighborhood cafe'}, {'restaurant': 'favorite family restaurant'}, {'food': 'great food', 'price': 'great price'}, {'opinion': 'humble opinion'}, {'menu': 'excellent menu', 'food': 'food'}, {'ambiance': 'good ambiance', 'coffee': 'good coffee'}, {'spot': 'nice breakfast lunch spot'}, {'foods': 'tasty food'}, {}, {'menu': 'good healthy menu'}, {}, {'salads': 'great salad'}, {'food': 'great food'}, {'food': 'great food'}, {'coffee': 'good coffee'}, {}, {'spot': 'spot'}, {}, {}]\n"
          ]
        }
      ]
    },
    {
      "cell_type": "code",
      "source": [
        "#@title Find all subphrases containing nouns from the given phrases\n",
        "# eg - nice cozy room should have all - ['room', 'cozy room', 'nice cozy room'] but not 'nice cozy', 'nice' and 'cozy'\n",
        "def find_all_subphrases(phrase):\n",
        "  subphrases = []\n",
        "  words_in_phrase = phrase.split()\n",
        "  num_of_words = len(words_in_phrase)\n",
        "\n",
        "  for subphrase_length in range(1, num_of_words + 1):\n",
        "    for subphrase_ind in range(0, num_of_words - subphrase_length + 1):\n",
        "      subphrase = ' '.join(words_in_phrase[subphrase_ind: (subphrase_ind + subphrase_length)])\n",
        "      \n",
        "      # Add a subphrase only if it contains a noun\n",
        "      if(len([np.text for np in nlp(subphrase).noun_chunks]) > 0):\n",
        "        subphrases.append(subphrase)\n",
        "  return subphrases"
      ],
      "metadata": {
        "id": "6mj3-l6n_baC"
      },
      "execution_count": null,
      "outputs": []
    },
    {
      "cell_type": "code",
      "source": [
        "#@title Find the count of each of the above phrases\n",
        "\n",
        "phrase_count = {}\n",
        "\n",
        "# Add a count of all the subphrases\n",
        "for noun_to_phrase_dic in all_reviews_noun_adj_pairs:\n",
        "\n",
        "  for phrase in noun_to_phrase_dic.values():\n",
        "    subphrases = find_all_subphrases(phrase)\n",
        "\n",
        "    for subphrase in subphrases:\n",
        "      if subphrase in phrase_count:\n",
        "        phrase_count[subphrase] += 1\n",
        "      else:\n",
        "        phrase_count[subphrase] = 1\n",
        "\n",
        "print(phrase_count)"
      ],
      "metadata": {
        "colab": {
          "base_uri": "https://localhost:8080/"
        },
        "id": "IK8jGyzt_p_0",
        "outputId": "37fd0f72-5516-469b-8409-42a97ef62707"
      },
      "execution_count": null,
      "outputs": [
        {
          "output_type": "stream",
          "name": "stdout",
          "text": [
            "{'fan': 1, 'star': 5, 'cafe': 10, 'time': 10, 'first time': 1, 'chai': 1, 'friend': 6, 'beautiful friend': 1, 'sandwich': 30, 'burrito': 1, 'beautiful sandwich': 1, 'sandwich burrito': 1, 'beautiful sandwich burrito': 1, 'pal': 1, 'order': 9, 'pal order': 1, 'mistake': 2, 'easy mistake': 1, 'area': 5, 'lunch': 13, 'early lunch': 1, 'child': 1, 'picky child': 1, 'atmosphere': 11, 'people': 7, 'food': 64, 'prop': 1, 'gentleman': 1, 'nice gentleman': 1, 'place': 32, 'smoothie': 12, 'lot': 5, 'fruit': 1, 'nice cafe': 1, 'fun': 3, 'great fun': 1, 'vegetarian': 2, 'vegan': 3, 'option': 13, 'vegetarian vegan': 1, 'vegan option': 2, 'vegetarian vegan option': 1, 'group': 2, 'big group': 1, 'group order': 1, 'big group order': 1, 'staff': 28, 'experience': 4, 'pleasant experience': 1, 'accommodating pleasant experience': 1, 'helpful accommodating pleasant experience': 1, 'student': 2, 'coffee': 32, 'tea': 1, 'organic food': 2, 'farm': 1, 'bread': 7, 'organic farm': 1, 'farm bread': 1, 'organic farm bread': 1, 'bagel': 23, 'cream': 7, 'cheese': 12, 'cream cheese': 7, 'salmon': 2, ':)': 1, 'sandwich place': 1, 'quality': 4, 'ingredient': 6, 'stuff': 2, 'wood': 1, 'table': 5, 'nice wood': 1, 'wood table': 1, 'nice wood table': 1, 'thing': 5, 'tomato': 2, 'pesto': 1, 'fresh ingredient': 2, 'ingredient tomato': 1, 'tomato pesto': 1, 'pesto cheese': 1, 'yummy fresh ingredient': 1, 'fresh ingredient tomato': 1, 'ingredient tomato pesto': 1, 'tomato pesto cheese': 1, 'yummy fresh ingredient tomato': 1, 'fresh ingredient tomato pesto': 1, 'ingredient tomato pesto cheese': 1, 'yummy fresh ingredient tomato pesto': 1, 'fresh ingredient tomato pesto cheese': 1, 'yummy fresh ingredient tomato pesto cheese': 1, 'grape': 1, 'soup': 7, 'nice bread': 1, 'bread grape': 1, 'grape soup': 1, 'nice bread grape': 1, 'bread grape soup': 1, 'nice bread grape soup': 1, 'great thing': 1, 'many great thing': 1, 'service': 18, 'great service': 2, 'outdoor': 6, 'dining': 1, 'outdoor dining': 1, 'multiple': 1, 'multiple time': 1, 'breakfast': 16, 'relaxed place': 1, 'chilled relaxed place': 1, 'friendly staff': 5, 'conversation': 1, 'reason': 1, 'spot': 5, 'problem': 2, 'only problem': 1, 'customer': 14, 'customer service': 7, 'person': 2, 'friendly person': 1, 'job': 1, 'bag': 1, 'member': 2, 'same staff': 1, 'staff member': 2, 'same staff member': 1, 'course': 3, 'moment': 1, 'expression': 1, 'comfortable place': 2, 'muffin': 2, 'scone': 2, 'chicken': 4, 'salad': 11, 'chicken salad': 2, 'ambience': 2, 'trip': 1, 'first trip': 1, 'store': 2, 'front': 2, 'store front': 1, 'menu': 12, 'selection': 7, 'nice selection': 1, 'cashier': 1, 'expediter': 1, 'order expediter': 1, 'cranberry': 1, 'sandwich orange': 1, 'orange cranberry': 1, 'cranberry scone': 1, 'sandwich orange cranberry': 1, 'orange cranberry scone': 1, 'sandwich orange cranberry scone': 1, 'brew': 1, 'cold brew': 1, 'brew coffee': 1, 'cold brew coffee': 1, 'portion': 1, 'sandwich bread': 1, 'bakery': 3, 'great treat': 1, 'size': 1, 'good size': 1, 'next visit': 2, 'seating': 9, 'outdoor seating': 5, 'regional': 1, 'chain': 3, 'regional chain': 1, 'delcious': 1, 'type': 1, 'delcious type': 1, 'type food': 1, 'delcious type food': 1, 'lover': 1, 'y food': 1, 'food lover': 1, 'y food lover': 1, 'diet': 1, 'home': 1, 'meal': 2, 'turkey': 1, 'sourdough': 1, 'sourdough bread': 1, 'slice': 2, 'tomato slice': 1, 'pleasant atmosphere': 1, 'list': 1, 'cute place': 1, 'different sandwich': 1, 'few different sandwich': 1, 'large table': 1, 'class': 1, 'class work': 1, 'price': 11, 'good price': 2, 'great food': 8, 'helpful staff': 3, 'friendly helpful staff': 1, 'decor': 2, 'generic corporate': 1, 'corporate chain': 1, 'chain decor': 1, 'generic corporate chain': 1, 'corporate chain decor': 1, 'generic corporate chain decor': 1, 'cheap option': 1, 'standard': 1, 'owner': 1, 'good stuff': 1, 'much time': 1, 'vibe': 2, 'nice staff': 2, 'mocha': 3, 'mochas': 1, 'bad mochas': 1, 'recipe': 1, 'garbage': 1, 'egg': 4, 'bagel egg': 1, 'speed': 1, 'internet': 1, 'high speed': 1, 'speed internet': 1, 'high speed internet': 1, 'evaluation': 1, 'choice': 5, 'great choice': 1, 'kid': 4, 'family': 2, 'work bagel': 1, 'caper': 1, 'onion': 2, 'party': 1, 'sensitivity': 1, 'modification': 1, 'manner': 1, 'timely manner': 1, 'detail': 1, 'perfection': 1, 'restaurant': 5, 'plenty': 1, 'other place': 2, 'delivery': 1, 'dasher': 1, 'minute': 2, 'last minute': 1, 'cappuccino': 1, 'hair': 1, 'long hair': 1, 'third time': 1, 'police': 1, 'complaint': 2, 'big complaint': 1, 'college': 1, 'town': 6, 'college town': 1, 'gluten': 3, 'free selection': 1, 'gluten free selection': 1, 'many gluten': 1, 'free option': 1, 'gluten free option': 1, 'many gluten free option': 1, 'great selection': 1, 'pastry': 3, 'mocha latte': 2, 'card': 2, 'few punch': 1, 'punch card': 2, 'few punch card': 1, 'loyal customer': 2, 'decent coffee': 1, 'crowd': 2, 'hipster crowd': 1, 'parking': 3, 'dedicated parking': 1, 'street': 2, 'reality': 1, 'business': 2, 'most business': 1, 'good food': 5, 'red onion': 1, 'bacon': 2, 'bacon egg': 1, 'item': 4, 'hell': 1, 'sweet hell': 1, 'great vibe': 1, 'cool atmosphere': 1, 'authentic': 1, 'fresh clean': 1, 'clean authentic': 1, 'tasty food': 3, 'fresh clean authentic': 1, 'authentic tasty food': 1, 'clean authentic tasty food': 1, 'fresh clean authentic tasty food': 1, 'gem': 1, 'lively atmosphere': 1, 'music': 2, 'good music': 1, 'pretty decor': 1, 'milk': 2, 'donut': 1, 'farmer': 1, 'vegetable': 1, 'farmer vegetable': 1, 'vegetable sandwich': 1, 'farmer vegetable sandwich': 1, 'bud': 1, 'lightning': 1, 'sweet lightning': 1, 'window': 1, 'sandwiches': 1, 'good sandwiches': 1, 'nice place': 2, 'homework': 2, 'friendly service': 2, 'fast friendly service': 1, 'environment': 4, 'delicious food': 2, 'food clean': 1, 'clean pleasant': 1, 'pleasant environment': 1, 'environment vegetarian': 1, 'vegetarian option': 1, 'delicious food clean': 1, 'food clean pleasant': 1, 'clean pleasant environment': 1, 'environment vegetarian option': 1, 'delicious food clean pleasant': 1, 'food clean pleasant environment': 1, 'pleasant environment vegetarian option': 1, 'delicious food clean pleasant environment': 1, 'clean pleasant environment vegetarian option': 1, 'food clean pleasant environment vegetarian option': 1, 'delicious food clean pleasant environment vegetarian option': 1, 'friendliness': 1, 'kid friendliness': 1, 'artistic environment': 1, 'wheelchair': 1, 'accessibility': 1, 'convenient parking': 1, 'parking wheelchair': 1, 'wheelchair accessibility': 1, 'ample convenient parking': 1, 'convenient parking wheelchair': 1, 'parking wheelchair accessibility': 1, 'ample convenient parking wheelchair': 1, 'convenient parking wheelchair accessibility': 1, 'ample convenient parking wheelchair accessibility': 1, 'dietary': 2, 'restriction': 2, 'accessible dietary': 1, 'dietary restriction': 2, 'accessible dietary restriction': 1, 'cozy cafe': 1, 'large cozy cafe': 1, 'day': 5, 'day breakfast': 1, 'worker': 2, 'mask': 1, 'style': 1, 'nice style': 1, 'fast customer': 1, 'fast customer service': 1, 'location': 4, 'situation': 2, 'wifi': 5, 'free wifi': 2, 'such disrespect': 1, 'week': 1, 'reaction': 1, 'allergic reaction': 1, 'food item': 1, 'apology': 1, 'free item': 1, 'refund free item': 1, 'foot': 1, 'banana': 1, 'avacado banana': 1, 'banana smoothie': 1, 'avacado banana smoothie': 1, 'pricy': 1, 'side': 1, 'pricy side': 1, 'ranch': 1, 'theme': 1, 'strange ranch': 1, 'ranch theme': 1, 'strange ranch theme': 1, 'point': 1, 'price point': 1, 'concern': 1, 'only concern': 1, 'dish': 1, 'other dish': 1, 'hummus': 1, 'fresh bread': 1, 'nice atmosphere': 2, 'good pastry': 1, 'cookie': 1, 'fast bakery': 1, 'simple fast bakery': 1, 'great breakfast': 2, 'breakfast food': 2, 'food lunch': 1, 'lunch sandwich': 1, 'great breakfast food': 1, 'breakfast food lunch': 1, 'food lunch sandwich': 1, 'great breakfast food lunch': 1, 'breakfast food lunch sandwich': 1, 'great breakfast food lunch sandwich': 1, 'good service': 2, 'fast wifi': 1, 'good seating': 1, 'power': 1, 'outlet': 1, 'power outlet': 1, 'commoner': 1, 'apple': 1, 'product': 1, 'apple product': 1, 'nice people': 2, 'nearby place': 1, 'peace': 1, 'little bagel': 1, 'overall friendly staff': 1, 'grain': 2, 'bowl': 3, 'grain bowl': 2, 'state': 1, 'snack': 2, 'other restaurant': 1, 'life': 2, 'nap': 1, 'occasion': 1, 'dinner': 1, 'bit': 2, 'trouble': 1, 'busy day': 1, 'manager': 3, 'great customer': 1, 'great customer service': 1, 'good bakery': 1, 'mass': 1, 'only place': 1, 'downtown': 2, 'opinion': 2, 'delicious breakfast': 1, 'breakfast sandwich': 2, 'delicious breakfast sandwich': 1, 'good place': 1, 'covid': 1, 'social': 1, 'distancing': 1, 'measure': 1, 'covid social': 1, 'social distancing': 1, 'distancing measure': 1, 'covid social distancing': 1, 'social distancing measure': 1, 'covid social distancing measure': 1, 'shop': 3, 'great sandwich': 1, 'sandwich smoothie': 1, 'smoothie shop': 1, 'great sandwich smoothie': 1, 'sandwich smoothie shop': 1, 'great sandwich smoothie shop': 1, 'good sandwich': 2, 'great smoothie': 2, 'little place': 1, 'great little place': 1, 'venue': 1, 'large venue': 1, 'morning': 2, 'dozen': 1, 'dozen bagel': 1, 'house': 1, 'numerous time': 1, 'poppy': 2, 'seed': 2, 'simple poppy': 1, 'poppy seed': 2, 'seed bagel': 2, 'simple poppy seed': 1, 'poppy seed bagel': 2, 'simple poppy seed bagel': 1, 'local business': 1, 'pandemic': 1, 'employee': 5, 'butter': 2, 'jam': 1, 'amount': 1, 'bill': 1, 'shame': 1, 'such shame': 1, 'sister': 1, 'major mistake': 1, 'wrong bread': 1, 'wrong topping': 1, 'wonderful selection': 1, 'girlfriend': 1, 'perfect place': 1, 'nice option': 1, 'name': 2, 'tag': 1, 'name tag': 1, 'pizza': 1, 'trash': 1, 'respect': 1, 'sausage': 1, 'sausage egg': 1, 'egg cheese': 1, 'cheese bagel': 1, 'sausage egg cheese': 1, 'egg cheese bagel': 1, 'sausage egg cheese bagel': 1, 'line': 2, 'system': 1, 'double shot': 1, 'content': 1, 'coffee content': 1, 'steamed milk': 1, 'issue': 1, 'machine': 1, 'coffee machine': 1, 'great price': 3, 'local good': 1, 'flavor': 1, 'great place': 5, 'morning bagel': 1, 'lip': 1, 'floor': 1, 'lol': 1, 'soundtrack': 1, 'schizophrenia': 1, 'excellent choice': 2, 'healthy grain': 1, 'healthy grain bowl': 1, 'sesame': 1, 'kind': 2, 'manger': 1, 'kind manger': 1, 'many option': 1, 'dairy': 1, 'fast food': 1, 'food restaurant': 1, 'restaurant environment': 1, 'fast food restaurant': 1, 'food restaurant environment': 1, 'fast food restaurant environment': 1, 'unit': 1, 'year': 1, 'few year': 1, 'space': 1, 'panini': 3, 'snowstorm': 1, 'fresh food': 2, 'tasty drink': 1, 'brunch': 1, 'salad ingredient': 1, 'respite': 1, 'quiet respite': 1, 'pickle': 1, 'peanut': 1, 'great good': 1, 'good peanut': 1, 'peanut butter': 1, 'butter smoothie': 1, 'great good peanut': 1, 'good peanut butter': 1, 'peanut butter smoothie': 1, 'great good peanut butter': 1, 'good peanut butter smoothie': 1, 'great good peanut butter smoothie': 1, 'more vegan option': 1, 'lady': 1, 'young lady': 1, 'girl': 2, 'desk': 1, 'wrong thing': 1, 'attitude': 1, 'good bacon': 1, 'scallion': 1, 'scallion cream': 1, 'scallion cream cheese': 1, 'brain': 1, 'bbq': 1, '🐔': 1, 'bbq chicken': 1, 'chicken 🐔': 1, '🐔 sandwich': 1, 'bbq chicken 🐔': 1, 'chicken 🐔 sandwich': 1, 'bbq chicken 🐔 sandwich': 1, 'healthy food': 1, 'big menu': 1, 'delicious salad': 1, 'iced coffee': 1, 'good iced coffee': 1, 'convenient location': 1, 'hometown': 1, 'hometown area': 1, 'independent coffee': 1, 'coffee shop': 1, 'independent coffee shop': 1, 'chalk': 1, 'board': 1, 'chalk board': 1, 'well option': 1, 'allergy': 1, 'barbeque': 1, 'barbeque chicken': 1, 'chicken panini': 1, 'barbeque chicken panini': 1, 'baked item': 1, 'good baked item': 1, 'emphasis': 1, 'local food': 1, 'less bagel': 1, 'bagel option': 1, 'less bagel option': 1, 'long line': 1, 'tasty bagel': 1, 'fast service': 1, 'cheap good': 1, 'good bagel': 2, 'cheap good bagel': 1, 'nice outdoor': 1, 'nice outdoor seating': 1, 'great coffee': 2, 'coffee punch': 1, 'coffee punch card': 1, 'bagle': 1, 'fantastic bagle': 1, 'jalapeno': 1, 'cheddar': 1, 'jalapeno cheddar': 1, 'brugger': 2, 'bagel cream': 1, 'bagel cream cheese': 1, 'appointment': 1, 'version': 1, 'local version': 1, 'contamination': 1, 'cross contamination': 1, 'training': 1, 'well training': 1, 'allergen': 1, 'mozzarella': 1, 'delicious mozzarella': 1, 'friendly environment': 1, 'nice friendly environment': 1, 'artichoke': 1, 'artichoke panini': 1, 'excellent coffee': 1, 'salmon bowl': 1, 'different option': 1, 'many different option': 1, 'breakfast lunch': 2, 'lunch menu': 1, 'great breakfast lunch': 1, 'breakfast lunch menu': 1, 'great breakfast lunch menu': 1, 'creative offering': 1, 'first choice': 1, 'comfortable table': 1, 'chalkboard': 1, 'tiny table': 1, 'pleasant place': 1, 'quick snack': 1, 'awesome selection': 1, 'coffee drink': 1, 'good breakfast': 2, 'good breakfast food': 1, 'good selection': 1, 'chowder': 1, 'new clam': 1, 'clam chowder': 1, 'new clam chowder': 1, 'goid': 1, 'tuna': 2, 'mile': 1, 'natural food': 1, 'maintenance': 1, 'building maintenance': 1, 'flooring': 1, 'dangerous flooring': 1, 'good shake': 1, 'strawberry': 1, 'avocado': 1, 'strawberry avocado': 1, 'avocado smoothie': 1, 'strawberry avocado smoothie': 1, 'old pastry': 1, 'day old pastry': 1, 'treatment': 1, 'silent treatment': 1, 'brat': 1, 'counter': 1, 'tray': 1, 'drink tray': 1, 'great spot': 1, 'vege': 1, 'vege sandwich': 1, 'chocolate': 1, 'small hot': 1, 'hot chocolate': 1, 'small hot chocolate': 1, 'good ingredient': 1, 'menu cheese': 1, 'cheese sandwich': 1, 'menu cheese sandwich': 1, 'delicious muffin': 1, 'servicea': 1, 'great servicea': 1, 'delicious sandwich': 1, 'quality ingredient': 1, 'blah': 1, 'breakfast wrap': 1, 'good breakfast wrap': 1, 'bite': 1, 'first bite': 1, 'good coffee': 5, 'takeout': 1, 'personnel': 1, 'friendly personnel': 1, 'homely atmosphere': 1, 'terrific sandwich': 1, 'casual atmosphere': 1, 'comfy seating': 1, 'age': 1, 'age group': 1, 'great people': 1, 'cool spot': 1, 'good cafe': 1, 'mediocre food': 1, 'low quality': 2, 'quality food': 1, 'low quality food': 1, 'quality customer': 1, 'low quality customer': 1, 'quality customer service': 1, 'low quality customer service': 1, 'son': 1, 'great experience': 1, 'cut girl': 1, 'excellent selection': 1, 'service nice': 1, 'selection friendly service': 1, 'friendly service nice': 1, 'service nice atmosphere': 1, 'excellent selection friendly service': 1, 'friendly service nice atmosphere': 1, 'selection friendly service nice atmosphere': 1, 'excellent selection friendly service nice atmosphere': 1, 'furniture': 1, 'countertop': 1, 'default': 1, 'good default': 1, 'default choice': 1, 'good default choice': 1, 'excellent service': 1, 'delicious fresh': 1, 'delicious fresh food': 1, 'awesome food': 1, 'espresso': 1, 'food customer': 1, 'food customer service': 1, 'true flex': 1, 'great menu': 1, 'sourcing': 1, 'good sourcing': 1, 'sourcing food': 1, 'good sourcing food': 1, 'pm': 1, 'hour': 1, 'samdwhiche': 1, 'healthy option': 1, 'samdwhiche healthy option': 1, 'neighborhood': 1, 'typical neighborhood': 1, 'neighborhood cafe': 1, 'typical neighborhood cafe': 1, 'favorite family': 1, 'family restaurant': 1, 'favorite family restaurant': 1, 'humble opinion': 1, 'excellent menu': 1, 'ambiance': 1, 'good ambiance': 1, 'nice breakfast': 1, 'lunch spot': 1, 'nice breakfast lunch': 1, 'breakfast lunch spot': 1, 'nice breakfast lunch spot': 1, 'healthy menu': 1, 'good healthy menu': 1, 'great salad': 1}\n"
          ]
        }
      ]
    },
    {
      "cell_type": "code",
      "source": [
        "#@title Find the sorted order of each of the occurences\n",
        "\n",
        "sorted_phrases = sorted(phrase_count.items(), key=lambda x: x[1], reverse=True)\n",
        "\n",
        "print(sorted_phrases)"
      ],
      "metadata": {
        "colab": {
          "base_uri": "https://localhost:8080/"
        },
        "id": "FJLKzmojAPy_",
        "outputId": "83a9ebb0-7c16-44e3-c5b2-1204f0f3a0ed"
      },
      "execution_count": null,
      "outputs": [
        {
          "output_type": "stream",
          "name": "stdout",
          "text": [
            "[('food', 64), ('place', 32), ('coffee', 32), ('sandwich', 30), ('staff', 28), ('bagel', 23), ('service', 18), ('breakfast', 16), ('customer', 14), ('lunch', 13), ('option', 13), ('smoothie', 12), ('cheese', 12), ('menu', 12), ('atmosphere', 11), ('salad', 11), ('price', 11), ('cafe', 10), ('time', 10), ('order', 9), ('seating', 9), ('great food', 8), ('people', 7), ('bread', 7), ('cream', 7), ('cream cheese', 7), ('soup', 7), ('customer service', 7), ('selection', 7), ('friend', 6), ('ingredient', 6), ('outdoor', 6), ('town', 6), ('star', 5), ('area', 5), ('lot', 5), ('table', 5), ('thing', 5), ('friendly staff', 5), ('spot', 5), ('outdoor seating', 5), ('choice', 5), ('restaurant', 5), ('good food', 5), ('day', 5), ('wifi', 5), ('employee', 5), ('great place', 5), ('good coffee', 5), ('experience', 4), ('quality', 4), ('chicken', 4), ('egg', 4), ('kid', 4), ('item', 4), ('environment', 4), ('location', 4), ('fun', 3), ('vegan', 3), ('course', 3), ('bakery', 3), ('chain', 3), ('helpful staff', 3), ('mocha', 3), ('gluten', 3), ('pastry', 3), ('parking', 3), ('tasty food', 3), ('bowl', 3), ('manager', 3), ('shop', 3), ('great price', 3), ('panini', 3), ('mistake', 2), ('vegetarian', 2), ('vegan option', 2), ('group', 2), ('student', 2), ('organic food', 2), ('salmon', 2), ('stuff', 2), ('tomato', 2), ('fresh ingredient', 2), ('great service', 2), ('problem', 2), ('person', 2), ('member', 2), ('staff member', 2), ('comfortable place', 2), ('muffin', 2), ('scone', 2), ('chicken salad', 2), ('ambience', 2), ('store', 2), ('front', 2), ('next visit', 2), ('meal', 2), ('slice', 2), ('good price', 2), ('decor', 2), ('vibe', 2), ('nice staff', 2), ('family', 2), ('onion', 2), ('other place', 2), ('minute', 2), ('complaint', 2), ('mocha latte', 2), ('card', 2), ('punch card', 2), ('loyal customer', 2), ('crowd', 2), ('street', 2), ('business', 2), ('bacon', 2), ('music', 2), ('milk', 2), ('nice place', 2), ('homework', 2), ('friendly service', 2), ('delicious food', 2), ('dietary', 2), ('restriction', 2), ('dietary restriction', 2), ('worker', 2), ('situation', 2), ('free wifi', 2), ('nice atmosphere', 2), ('great breakfast', 2), ('breakfast food', 2), ('good service', 2), ('nice people', 2), ('grain', 2), ('grain bowl', 2), ('snack', 2), ('life', 2), ('bit', 2), ('downtown', 2), ('opinion', 2), ('breakfast sandwich', 2), ('good sandwich', 2), ('great smoothie', 2), ('morning', 2), ('poppy', 2), ('seed', 2), ('poppy seed', 2), ('seed bagel', 2), ('poppy seed bagel', 2), ('butter', 2), ('name', 2), ('line', 2), ('excellent choice', 2), ('kind', 2), ('fresh food', 2), ('girl', 2), ('good bagel', 2), ('great coffee', 2), ('brugger', 2), ('breakfast lunch', 2), ('good breakfast', 2), ('tuna', 2), ('low quality', 2), ('fan', 1), ('first time', 1), ('chai', 1), ('beautiful friend', 1), ('burrito', 1), ('beautiful sandwich', 1), ('sandwich burrito', 1), ('beautiful sandwich burrito', 1), ('pal', 1), ('pal order', 1), ('easy mistake', 1), ('early lunch', 1), ('child', 1), ('picky child', 1), ('prop', 1), ('gentleman', 1), ('nice gentleman', 1), ('fruit', 1), ('nice cafe', 1), ('great fun', 1), ('vegetarian vegan', 1), ('vegetarian vegan option', 1), ('big group', 1), ('group order', 1), ('big group order', 1), ('pleasant experience', 1), ('accommodating pleasant experience', 1), ('helpful accommodating pleasant experience', 1), ('tea', 1), ('farm', 1), ('organic farm', 1), ('farm bread', 1), ('organic farm bread', 1), (':)', 1), ('sandwich place', 1), ('wood', 1), ('nice wood', 1), ('wood table', 1), ('nice wood table', 1), ('pesto', 1), ('ingredient tomato', 1), ('tomato pesto', 1), ('pesto cheese', 1), ('yummy fresh ingredient', 1), ('fresh ingredient tomato', 1), ('ingredient tomato pesto', 1), ('tomato pesto cheese', 1), ('yummy fresh ingredient tomato', 1), ('fresh ingredient tomato pesto', 1), ('ingredient tomato pesto cheese', 1), ('yummy fresh ingredient tomato pesto', 1), ('fresh ingredient tomato pesto cheese', 1), ('yummy fresh ingredient tomato pesto cheese', 1), ('grape', 1), ('nice bread', 1), ('bread grape', 1), ('grape soup', 1), ('nice bread grape', 1), ('bread grape soup', 1), ('nice bread grape soup', 1), ('great thing', 1), ('many great thing', 1), ('dining', 1), ('outdoor dining', 1), ('multiple', 1), ('multiple time', 1), ('relaxed place', 1), ('chilled relaxed place', 1), ('conversation', 1), ('reason', 1), ('only problem', 1), ('friendly person', 1), ('job', 1), ('bag', 1), ('same staff', 1), ('same staff member', 1), ('moment', 1), ('expression', 1), ('trip', 1), ('first trip', 1), ('store front', 1), ('nice selection', 1), ('cashier', 1), ('expediter', 1), ('order expediter', 1), ('cranberry', 1), ('sandwich orange', 1), ('orange cranberry', 1), ('cranberry scone', 1), ('sandwich orange cranberry', 1), ('orange cranberry scone', 1), ('sandwich orange cranberry scone', 1), ('brew', 1), ('cold brew', 1), ('brew coffee', 1), ('cold brew coffee', 1), ('portion', 1), ('sandwich bread', 1), ('great treat', 1), ('size', 1), ('good size', 1), ('regional', 1), ('regional chain', 1), ('delcious', 1), ('type', 1), ('delcious type', 1), ('type food', 1), ('delcious type food', 1), ('lover', 1), ('y food', 1), ('food lover', 1), ('y food lover', 1), ('diet', 1), ('home', 1), ('turkey', 1), ('sourdough', 1), ('sourdough bread', 1), ('tomato slice', 1), ('pleasant atmosphere', 1), ('list', 1), ('cute place', 1), ('different sandwich', 1), ('few different sandwich', 1), ('large table', 1), ('class', 1), ('class work', 1), ('friendly helpful staff', 1), ('generic corporate', 1), ('corporate chain', 1), ('chain decor', 1), ('generic corporate chain', 1), ('corporate chain decor', 1), ('generic corporate chain decor', 1), ('cheap option', 1), ('standard', 1), ('owner', 1), ('good stuff', 1), ('much time', 1), ('mochas', 1), ('bad mochas', 1), ('recipe', 1), ('garbage', 1), ('bagel egg', 1), ('speed', 1), ('internet', 1), ('high speed', 1), ('speed internet', 1), ('high speed internet', 1), ('evaluation', 1), ('great choice', 1), ('work bagel', 1), ('caper', 1), ('party', 1), ('sensitivity', 1), ('modification', 1), ('manner', 1), ('timely manner', 1), ('detail', 1), ('perfection', 1), ('plenty', 1), ('delivery', 1), ('dasher', 1), ('last minute', 1), ('cappuccino', 1), ('hair', 1), ('long hair', 1), ('third time', 1), ('police', 1), ('big complaint', 1), ('college', 1), ('college town', 1), ('free selection', 1), ('gluten free selection', 1), ('many gluten', 1), ('free option', 1), ('gluten free option', 1), ('many gluten free option', 1), ('great selection', 1), ('few punch', 1), ('few punch card', 1), ('decent coffee', 1), ('hipster crowd', 1), ('dedicated parking', 1), ('reality', 1), ('most business', 1), ('red onion', 1), ('bacon egg', 1), ('hell', 1), ('sweet hell', 1), ('great vibe', 1), ('cool atmosphere', 1), ('authentic', 1), ('fresh clean', 1), ('clean authentic', 1), ('fresh clean authentic', 1), ('authentic tasty food', 1), ('clean authentic tasty food', 1), ('fresh clean authentic tasty food', 1), ('gem', 1), ('lively atmosphere', 1), ('good music', 1), ('pretty decor', 1), ('donut', 1), ('farmer', 1), ('vegetable', 1), ('farmer vegetable', 1), ('vegetable sandwich', 1), ('farmer vegetable sandwich', 1), ('bud', 1), ('lightning', 1), ('sweet lightning', 1), ('window', 1), ('sandwiches', 1), ('good sandwiches', 1), ('fast friendly service', 1), ('food clean', 1), ('clean pleasant', 1), ('pleasant environment', 1), ('environment vegetarian', 1), ('vegetarian option', 1), ('delicious food clean', 1), ('food clean pleasant', 1), ('clean pleasant environment', 1), ('environment vegetarian option', 1), ('delicious food clean pleasant', 1), ('food clean pleasant environment', 1), ('pleasant environment vegetarian option', 1), ('delicious food clean pleasant environment', 1), ('clean pleasant environment vegetarian option', 1), ('food clean pleasant environment vegetarian option', 1), ('delicious food clean pleasant environment vegetarian option', 1), ('friendliness', 1), ('kid friendliness', 1), ('artistic environment', 1), ('wheelchair', 1), ('accessibility', 1), ('convenient parking', 1), ('parking wheelchair', 1), ('wheelchair accessibility', 1), ('ample convenient parking', 1), ('convenient parking wheelchair', 1), ('parking wheelchair accessibility', 1), ('ample convenient parking wheelchair', 1), ('convenient parking wheelchair accessibility', 1), ('ample convenient parking wheelchair accessibility', 1), ('accessible dietary', 1), ('accessible dietary restriction', 1), ('cozy cafe', 1), ('large cozy cafe', 1), ('day breakfast', 1), ('mask', 1), ('style', 1), ('nice style', 1), ('fast customer', 1), ('fast customer service', 1), ('such disrespect', 1), ('week', 1), ('reaction', 1), ('allergic reaction', 1), ('food item', 1), ('apology', 1), ('free item', 1), ('refund free item', 1), ('foot', 1), ('banana', 1), ('avacado banana', 1), ('banana smoothie', 1), ('avacado banana smoothie', 1), ('pricy', 1), ('side', 1), ('pricy side', 1), ('ranch', 1), ('theme', 1), ('strange ranch', 1), ('ranch theme', 1), ('strange ranch theme', 1), ('point', 1), ('price point', 1), ('concern', 1), ('only concern', 1), ('dish', 1), ('other dish', 1), ('hummus', 1), ('fresh bread', 1), ('good pastry', 1), ('cookie', 1), ('fast bakery', 1), ('simple fast bakery', 1), ('food lunch', 1), ('lunch sandwich', 1), ('great breakfast food', 1), ('breakfast food lunch', 1), ('food lunch sandwich', 1), ('great breakfast food lunch', 1), ('breakfast food lunch sandwich', 1), ('great breakfast food lunch sandwich', 1), ('fast wifi', 1), ('good seating', 1), ('power', 1), ('outlet', 1), ('power outlet', 1), ('commoner', 1), ('apple', 1), ('product', 1), ('apple product', 1), ('nearby place', 1), ('peace', 1), ('little bagel', 1), ('overall friendly staff', 1), ('state', 1), ('other restaurant', 1), ('nap', 1), ('occasion', 1), ('dinner', 1), ('trouble', 1), ('busy day', 1), ('great customer', 1), ('great customer service', 1), ('good bakery', 1), ('mass', 1), ('only place', 1), ('delicious breakfast', 1), ('delicious breakfast sandwich', 1), ('good place', 1), ('covid', 1), ('social', 1), ('distancing', 1), ('measure', 1), ('covid social', 1), ('social distancing', 1), ('distancing measure', 1), ('covid social distancing', 1), ('social distancing measure', 1), ('covid social distancing measure', 1), ('great sandwich', 1), ('sandwich smoothie', 1), ('smoothie shop', 1), ('great sandwich smoothie', 1), ('sandwich smoothie shop', 1), ('great sandwich smoothie shop', 1), ('little place', 1), ('great little place', 1), ('venue', 1), ('large venue', 1), ('dozen', 1), ('dozen bagel', 1), ('house', 1), ('numerous time', 1), ('simple poppy', 1), ('simple poppy seed', 1), ('simple poppy seed bagel', 1), ('local business', 1), ('pandemic', 1), ('jam', 1), ('amount', 1), ('bill', 1), ('shame', 1), ('such shame', 1), ('sister', 1), ('major mistake', 1), ('wrong bread', 1), ('wrong topping', 1), ('wonderful selection', 1), ('girlfriend', 1), ('perfect place', 1), ('nice option', 1), ('tag', 1), ('name tag', 1), ('pizza', 1), ('trash', 1), ('respect', 1), ('sausage', 1), ('sausage egg', 1), ('egg cheese', 1), ('cheese bagel', 1), ('sausage egg cheese', 1), ('egg cheese bagel', 1), ('sausage egg cheese bagel', 1), ('system', 1), ('double shot', 1), ('content', 1), ('coffee content', 1), ('steamed milk', 1), ('issue', 1), ('machine', 1), ('coffee machine', 1), ('local good', 1), ('flavor', 1), ('morning bagel', 1), ('lip', 1), ('floor', 1), ('lol', 1), ('soundtrack', 1), ('schizophrenia', 1), ('healthy grain', 1), ('healthy grain bowl', 1), ('sesame', 1), ('manger', 1), ('kind manger', 1), ('many option', 1), ('dairy', 1), ('fast food', 1), ('food restaurant', 1), ('restaurant environment', 1), ('fast food restaurant', 1), ('food restaurant environment', 1), ('fast food restaurant environment', 1), ('unit', 1), ('year', 1), ('few year', 1), ('space', 1), ('snowstorm', 1), ('tasty drink', 1), ('brunch', 1), ('salad ingredient', 1), ('respite', 1), ('quiet respite', 1), ('pickle', 1), ('peanut', 1), ('great good', 1), ('good peanut', 1), ('peanut butter', 1), ('butter smoothie', 1), ('great good peanut', 1), ('good peanut butter', 1), ('peanut butter smoothie', 1), ('great good peanut butter', 1), ('good peanut butter smoothie', 1), ('great good peanut butter smoothie', 1), ('more vegan option', 1), ('lady', 1), ('young lady', 1), ('desk', 1), ('wrong thing', 1), ('attitude', 1), ('good bacon', 1), ('scallion', 1), ('scallion cream', 1), ('scallion cream cheese', 1), ('brain', 1), ('bbq', 1), ('🐔', 1), ('bbq chicken', 1), ('chicken 🐔', 1), ('🐔 sandwich', 1), ('bbq chicken 🐔', 1), ('chicken 🐔 sandwich', 1), ('bbq chicken 🐔 sandwich', 1), ('healthy food', 1), ('big menu', 1), ('delicious salad', 1), ('iced coffee', 1), ('good iced coffee', 1), ('convenient location', 1), ('hometown', 1), ('hometown area', 1), ('independent coffee', 1), ('coffee shop', 1), ('independent coffee shop', 1), ('chalk', 1), ('board', 1), ('chalk board', 1), ('well option', 1), ('allergy', 1), ('barbeque', 1), ('barbeque chicken', 1), ('chicken panini', 1), ('barbeque chicken panini', 1), ('baked item', 1), ('good baked item', 1), ('emphasis', 1), ('local food', 1), ('less bagel', 1), ('bagel option', 1), ('less bagel option', 1), ('long line', 1), ('tasty bagel', 1), ('fast service', 1), ('cheap good', 1), ('cheap good bagel', 1), ('nice outdoor', 1), ('nice outdoor seating', 1), ('coffee punch', 1), ('coffee punch card', 1), ('bagle', 1), ('fantastic bagle', 1), ('jalapeno', 1), ('cheddar', 1), ('jalapeno cheddar', 1), ('bagel cream', 1), ('bagel cream cheese', 1), ('appointment', 1), ('version', 1), ('local version', 1), ('contamination', 1), ('cross contamination', 1), ('training', 1), ('well training', 1), ('allergen', 1), ('mozzarella', 1), ('delicious mozzarella', 1), ('friendly environment', 1), ('nice friendly environment', 1), ('artichoke', 1), ('artichoke panini', 1), ('excellent coffee', 1), ('salmon bowl', 1), ('different option', 1), ('many different option', 1), ('lunch menu', 1), ('great breakfast lunch', 1), ('breakfast lunch menu', 1), ('great breakfast lunch menu', 1), ('creative offering', 1), ('first choice', 1), ('comfortable table', 1), ('chalkboard', 1), ('tiny table', 1), ('pleasant place', 1), ('quick snack', 1), ('awesome selection', 1), ('coffee drink', 1), ('good breakfast food', 1), ('good selection', 1), ('chowder', 1), ('new clam', 1), ('clam chowder', 1), ('new clam chowder', 1), ('goid', 1), ('mile', 1), ('natural food', 1), ('maintenance', 1), ('building maintenance', 1), ('flooring', 1), ('dangerous flooring', 1), ('good shake', 1), ('strawberry', 1), ('avocado', 1), ('strawberry avocado', 1), ('avocado smoothie', 1), ('strawberry avocado smoothie', 1), ('old pastry', 1), ('day old pastry', 1), ('treatment', 1), ('silent treatment', 1), ('brat', 1), ('counter', 1), ('tray', 1), ('drink tray', 1), ('great spot', 1), ('vege', 1), ('vege sandwich', 1), ('chocolate', 1), ('small hot', 1), ('hot chocolate', 1), ('small hot chocolate', 1), ('good ingredient', 1), ('menu cheese', 1), ('cheese sandwich', 1), ('menu cheese sandwich', 1), ('delicious muffin', 1), ('servicea', 1), ('great servicea', 1), ('delicious sandwich', 1), ('quality ingredient', 1), ('blah', 1), ('breakfast wrap', 1), ('good breakfast wrap', 1), ('bite', 1), ('first bite', 1), ('takeout', 1), ('personnel', 1), ('friendly personnel', 1), ('homely atmosphere', 1), ('terrific sandwich', 1), ('casual atmosphere', 1), ('comfy seating', 1), ('age', 1), ('age group', 1), ('great people', 1), ('cool spot', 1), ('good cafe', 1), ('mediocre food', 1), ('quality food', 1), ('low quality food', 1), ('quality customer', 1), ('low quality customer', 1), ('quality customer service', 1), ('low quality customer service', 1), ('son', 1), ('great experience', 1), ('cut girl', 1), ('excellent selection', 1), ('service nice', 1), ('selection friendly service', 1), ('friendly service nice', 1), ('service nice atmosphere', 1), ('excellent selection friendly service', 1), ('friendly service nice atmosphere', 1), ('selection friendly service nice atmosphere', 1), ('excellent selection friendly service nice atmosphere', 1), ('furniture', 1), ('countertop', 1), ('default', 1), ('good default', 1), ('default choice', 1), ('good default choice', 1), ('excellent service', 1), ('delicious fresh', 1), ('delicious fresh food', 1), ('awesome food', 1), ('espresso', 1), ('food customer', 1), ('food customer service', 1), ('true flex', 1), ('great menu', 1), ('sourcing', 1), ('good sourcing', 1), ('sourcing food', 1), ('good sourcing food', 1), ('pm', 1), ('hour', 1), ('samdwhiche', 1), ('healthy option', 1), ('samdwhiche healthy option', 1), ('neighborhood', 1), ('typical neighborhood', 1), ('neighborhood cafe', 1), ('typical neighborhood cafe', 1), ('favorite family', 1), ('family restaurant', 1), ('favorite family restaurant', 1), ('humble opinion', 1), ('excellent menu', 1), ('ambiance', 1), ('good ambiance', 1), ('nice breakfast', 1), ('lunch spot', 1), ('nice breakfast lunch', 1), ('breakfast lunch spot', 1), ('nice breakfast lunch spot', 1), ('healthy menu', 1), ('good healthy menu', 1), ('great salad', 1)]\n"
          ]
        }
      ]
    },
    {
      "cell_type": "code",
      "source": [
        "noun = ''\n",
        "if noun:\n",
        "  print('yes')\n",
        "else:\n",
        "  print('no')"
      ],
      "metadata": {
        "colab": {
          "base_uri": "https://localhost:8080/"
        },
        "id": "AcztFv-ctUMI",
        "outputId": "8b2abe0b-5979-4ef1-8b81-cfe818897b8b"
      },
      "execution_count": null,
      "outputs": [
        {
          "output_type": "stream",
          "name": "stdout",
          "text": [
            "no\n"
          ]
        }
      ]
    }
  ]
}